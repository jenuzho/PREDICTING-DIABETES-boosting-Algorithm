{
    "cells": [
        {
            "cell_type": "markdown",
            "metadata": {},
            "source": [
                "<br>\n",
                "\n",
                "<br>\n",
                "\n",
                "<br>\n",
                "\n",
                "# 🚀 **PREDICTING DIABETES** 🚀"
            ]
        },
        {
            "cell_type": "markdown",
            "metadata": {},
            "source": [
                "**BOOSTING ALGORITHM (XGBOOST)**\n",
                "\n",
                "<br>"
            ]
        },
        {
            "cell_type": "markdown",
            "metadata": {},
            "source": [
                "## **INDEX**\n",
                "\n",
                "- **STEP 1: PROBLEM DEFINITION AND DATA COLLECTION**\n",
                "- **STEP 2: DATA EXPLORATION AND CLEANING**\n",
                "- **STEP 3: UNIVARIATE VARIABLE ANALYSIS**\n",
                "- **STEP 4: MULTIVARIATE VARIABLE ANALYSIS**\n",
                "- **STEP 5: FEATURE ENGINEERING**\n",
                "- **STEP 6: FEATURE SELECTION**\n",
                "- **STEP 7: MACHINE LEARNING**\n",
                "- **STEP 8: CONCLUSIONS**"
            ]
        },
        {
            "cell_type": "markdown",
            "metadata": {},
            "source": [
                "<br>\n",
                "\n",
                "### **STEP 1: PROBLEM DEFINITION AND DATA COLLECTION**\n",
                "\n",
                "- 1.1. Problem Definition\n",
                "- 1.2. Library Importing\n",
                "- 1.3. Data Collection"
            ]
        },
        {
            "cell_type": "markdown",
            "metadata": {},
            "source": [
                "**1.1. PROBLEM DEFINITION**\n",
                "\n",
                "Diabetes is a chronic health condition that affects millions of people worldwide. Early detection and diagnosis of diabetes are crucial for effective management and prevention of complications. In this study, we aim to develop a predictive model that can accurately identify individuals at risk of developing diabetes based on a set of diagnostic measures. By leveraging a dataset from the National Institute of Diabetes and Digestive and Kidney Diseases.\n",
                "\n",
                "**RESEARCH QUESTIONS**\n",
                "\n",
                "**Feature Importance**\n",
                "- Which diagnostic measures (e.g., glucose levels, BMI) are the strongest predictors of diabetes?\n",
                "- How do the relative importance of these features compare?\n",
                "\n",
                "**Feature Interactions**\n",
                "- Are there significant interactions between diagnostic measures that influence diabetes risk?\n",
                "- How do these interactions affect the predictive model?\n",
                "\n",
                "**Clinical Implications**\n",
                "- Can the model identify subgroups of patients with distinct risk profiles?\n",
                "- How can the model be used to improve clinical decision-making and early intervention?\n",
                "\n",
                "**Model Performance**\n",
                "- How well does the **`BOOSTING ALGORITHM (XGBoost)`** generalize to new, unseen data?\n",
                "- What is the impact of different hyperparameter settings on model performance?\n",
                "\n",
                "\n",
                "**Methodology**\n",
                "- **`Extreme Gradient Boosting`**\n",
                "- XGBoost, or Extreme Gradient Boosting, is a powerful machine learning algorithm that is widely used for both classification and regression tasks. It's part of a family of algorithms known as gradient boosting machines.\n",
                "\n",
                "**How does XGBoost work?**\n",
                "\n",
                "- **Sequential Model Building**:  XGBoost constructs a model sequentially. It starts by building a simple model (like a decision tree) and then adds new models one by one.\n",
                "- **Minimizing Loss**: Each new model is trained to correct the errors made by the previous models. It does this by minimizing a loss function, which measures how well the model fits the training data.\n",
                "- **Regularization**: XGBoost incorporates regularization techniques to prevent overfitting. This helps the model generalize better to unseen data.\n",
                "- **Parallel Processing**: XGBoost is designed to be highly efficient and can leverage multiple cores of a CPU or GPUs for parallel processing.\n",
                "\n",
                "\n",
                "**`XGBoost` vs. `Random Forest` vs. `Decision Tree`**\n",
                "- **Decision Tree**: A decision tree is a basic machine learning model that makes decisions by splitting the data based on certain conditions. It's a single tree-like model.\n",
                "- **Random Forest**: A random forest is an ensemble method that combines multiple decision trees. Each tree in the forest is trained on a different subset of the data and features. The final prediction is made by averaging the predictions of all the trees.\n",
                "- **XGBoost**: XGBoost is also an ensemble method, but it differs from random forest in several ways:\n",
                "    - **Sequential vs. Parallel**: Random forest builds trees independently, while XGBoost builds trees sequentially.\n",
                "    - **Optimization**: XGBoost optimizes a loss function directly, making it more efficient.\n",
                "    - **Regularization**: XGBoost incorporates regularization techniques to prevent overfitting.\n",
                "    - **Handling Missing Values**: XGBoost has built-in mechanisms for handling missing values.\n",
                "\n",
                "**To summarize:**\n",
                "- Decision trees are the building blocks of more complex models like random forests and XGBoost.\n",
                "- Random forests combine multiple decision trees to improve accuracy and reduce overfitting.\n",
                "- XGBoost is a highly optimized gradient boosting algorithm that builds models sequentially and incorporates regularization to prevent overfitting.\n",
                "\n",
                "<br>"
            ]
        },
        {
            "cell_type": "markdown",
            "metadata": {},
            "source": [
                "**1.2. LIBRARY IMPORTING**"
            ]
        },
        {
            "cell_type": "code",
            "execution_count": 1,
            "metadata": {},
            "outputs": [],
            "source": [
                "import pandas as pd\n",
                "import numpy as np\n",
                "import seaborn as sns\n",
                "import matplotlib.pyplot as plt\n",
                "import pickle  # For saving the model\n",
                "from pickle import dump\n",
                "from sklearn.model_selection import train_test_split, GridSearchCV\n",
                "from sklearn.preprocessing import StandardScaler, MinMaxScaler\n",
                "from sklearn.feature_selection import f_classif, SelectKBest\n",
                "from sklearn.metrics import classification_report, confusion_matrix, accuracy_score, precision_score, recall_score, f1_score, roc_auc_score\n",
                "from xgboost import XGBClassifier\n",
                "import warnings\n",
                "warnings.filterwarnings(\"ignore\", category=FutureWarning)"
            ]
        },
        {
            "cell_type": "markdown",
            "metadata": {},
            "source": [
                "**1.3. DATA COLLECTION**"
            ]
        },
        {
            "cell_type": "code",
            "execution_count": 2,
            "metadata": {},
            "outputs": [
                {
                    "data": {
                        "text/html": [
                            "<div>\n",
                            "<style scoped>\n",
                            "    .dataframe tbody tr th:only-of-type {\n",
                            "        vertical-align: middle;\n",
                            "    }\n",
                            "\n",
                            "    .dataframe tbody tr th {\n",
                            "        vertical-align: top;\n",
                            "    }\n",
                            "\n",
                            "    .dataframe thead th {\n",
                            "        text-align: right;\n",
                            "    }\n",
                            "</style>\n",
                            "<table border=\"1\" class=\"dataframe\">\n",
                            "  <thead>\n",
                            "    <tr style=\"text-align: right;\">\n",
                            "      <th></th>\n",
                            "      <th>Pregnancies</th>\n",
                            "      <th>Glucose</th>\n",
                            "      <th>BloodPressure</th>\n",
                            "      <th>SkinThickness</th>\n",
                            "      <th>Insulin</th>\n",
                            "      <th>BMI</th>\n",
                            "      <th>DiabetesPedigreeFunction</th>\n",
                            "      <th>Age</th>\n",
                            "      <th>Outcome</th>\n",
                            "    </tr>\n",
                            "  </thead>\n",
                            "  <tbody>\n",
                            "    <tr>\n",
                            "      <th>0</th>\n",
                            "      <td>6</td>\n",
                            "      <td>148</td>\n",
                            "      <td>72</td>\n",
                            "      <td>35</td>\n",
                            "      <td>0</td>\n",
                            "      <td>33.6</td>\n",
                            "      <td>0.627</td>\n",
                            "      <td>50</td>\n",
                            "      <td>1</td>\n",
                            "    </tr>\n",
                            "    <tr>\n",
                            "      <th>1</th>\n",
                            "      <td>1</td>\n",
                            "      <td>85</td>\n",
                            "      <td>66</td>\n",
                            "      <td>29</td>\n",
                            "      <td>0</td>\n",
                            "      <td>26.6</td>\n",
                            "      <td>0.351</td>\n",
                            "      <td>31</td>\n",
                            "      <td>0</td>\n",
                            "    </tr>\n",
                            "    <tr>\n",
                            "      <th>2</th>\n",
                            "      <td>8</td>\n",
                            "      <td>183</td>\n",
                            "      <td>64</td>\n",
                            "      <td>0</td>\n",
                            "      <td>0</td>\n",
                            "      <td>23.3</td>\n",
                            "      <td>0.672</td>\n",
                            "      <td>32</td>\n",
                            "      <td>1</td>\n",
                            "    </tr>\n",
                            "    <tr>\n",
                            "      <th>3</th>\n",
                            "      <td>1</td>\n",
                            "      <td>89</td>\n",
                            "      <td>66</td>\n",
                            "      <td>23</td>\n",
                            "      <td>94</td>\n",
                            "      <td>28.1</td>\n",
                            "      <td>0.167</td>\n",
                            "      <td>21</td>\n",
                            "      <td>0</td>\n",
                            "    </tr>\n",
                            "    <tr>\n",
                            "      <th>4</th>\n",
                            "      <td>0</td>\n",
                            "      <td>137</td>\n",
                            "      <td>40</td>\n",
                            "      <td>35</td>\n",
                            "      <td>168</td>\n",
                            "      <td>43.1</td>\n",
                            "      <td>2.288</td>\n",
                            "      <td>33</td>\n",
                            "      <td>1</td>\n",
                            "    </tr>\n",
                            "  </tbody>\n",
                            "</table>\n",
                            "</div>"
                        ],
                        "text/plain": [
                            "   Pregnancies  Glucose  BloodPressure  SkinThickness  Insulin   BMI  \\\n",
                            "0            6      148             72             35        0  33.6   \n",
                            "1            1       85             66             29        0  26.6   \n",
                            "2            8      183             64              0        0  23.3   \n",
                            "3            1       89             66             23       94  28.1   \n",
                            "4            0      137             40             35      168  43.1   \n",
                            "\n",
                            "   DiabetesPedigreeFunction  Age  Outcome  \n",
                            "0                     0.627   50        1  \n",
                            "1                     0.351   31        0  \n",
                            "2                     0.672   32        1  \n",
                            "3                     0.167   21        0  \n",
                            "4                     2.288   33        1  "
                        ]
                    },
                    "execution_count": 2,
                    "metadata": {},
                    "output_type": "execute_result"
                }
            ],
            "source": [
                "pd.options.display.max_columns=None\n",
                "df = pd.read_csv(\"https://raw.githubusercontent.com/4GeeksAcademy/decision-tree-project-tutorial/main/diabetes.csv\")\n",
                "df.head()"
            ]
        },
        {
            "cell_type": "code",
            "execution_count": 3,
            "metadata": {},
            "outputs": [],
            "source": [
                "df.to_csv(\"../data/raw/diabetes_data.csv\", index=False)"
            ]
        }
    ],
    "metadata": {
        "kernelspec": {
            "display_name": "Python 3",
            "language": "python",
            "name": "python3"
        },
        "language_info": {
            "codemirror_mode": {
                "name": "ipython",
                "version": 3
            },
            "file_extension": ".py",
            "mimetype": "text/x-python",
            "name": "python",
            "nbconvert_exporter": "python",
            "pygments_lexer": "ipython3",
            "version": "3.12.6"
        },
        "orig_nbformat": 4
    },
    "nbformat": 4,
    "nbformat_minor": 2
}
